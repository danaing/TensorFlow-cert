{
  "nbformat": 4,
  "nbformat_minor": 0,
  "metadata": {
    "colab": {
      "name": "TF1-line",
      "provenance": [],
      "collapsed_sections": [],
      "machine_shape": "hm",
      "include_colab_link": true
    },
    "kernelspec": {
      "name": "python3",
      "display_name": "Python 3"
    },
    "accelerator": "GPU"
  },
  "cells": [
    {
      "cell_type": "markdown",
      "metadata": {
        "id": "view-in-github",
        "colab_type": "text"
      },
      "source": [
        "<a href=\"https://colab.research.google.com/github/danaing/TensorFlow-cert/blob/main/TF1_line.ipynb\" target=\"_parent\"><img src=\"https://colab.research.google.com/assets/colab-badge.svg\" alt=\"Open In Colab\"/></a>"
      ]
    },
    {
      "cell_type": "markdown",
      "metadata": {
        "id": "U1QUC0kCncNG"
      },
      "source": [
        "## 문제 1"
      ]
    },
    {
      "cell_type": "code",
      "metadata": {
        "id": "3zP9nyAVHJnn"
      },
      "source": [
        "# ======================================================================\n",
        "# There are 5 questions in this test with increasing difficulty from 1-5\n",
        "# Please note that the weight of the grade for the question is relative\n",
        "# to its difficulty. So your Category 1 question will score much less\n",
        "# than your Category 5 question.\n",
        "# ======================================================================\n",
        "#\n",
        "# Getting Started Question\n",
        "#\n",
        "# Given this data, train a neural network to match the xs to the ys\n",
        "# So that a predictor for a new value of X will give a float value\n",
        "# very close to the desired answer\n",
        "# i.e. print(model.predict([10.0])) would give a satisfactory result\n",
        "# The test infrastructure expects a trained model that accepts\n",
        "# an input shape of [1]"
      ],
      "execution_count": null,
      "outputs": []
    },
    {
      "cell_type": "markdown",
      "metadata": {
        "id": "zj4LFOPandyt"
      },
      "source": [
        "## 풀이"
      ]
    },
    {
      "cell_type": "code",
      "metadata": {
        "id": "6YakPIidoAQq"
      },
      "source": [
        "import numpy as np\n",
        "import tensorflow as tf\n",
        "from tensorflow.keras.layers import Dense\n",
        "from tensorflow.keras.models import Sequential\n",
        "\n",
        "\n",
        "def solution_model():\n",
        "    xs = np.array([-1.0, 0.0, 1.0, 2.0, 3.0, 4.0], dtype=float)\n",
        "    ys = np.array([5.0, 6.0, 7.0, 8.0, 9.0, 10.0], dtype=float)\n",
        "\n",
        "    # Your code here\n",
        "    model = Sequential([\n",
        "        Dense(1, input_shape=[1]),\n",
        "    ])\n",
        "    model.compile(optimizer='sgd', loss='mse')\n",
        "    model.fit(xs, ys, epochs=1200, verbose=0)    \n",
        "\n",
        "    return model\n",
        "\n",
        "\n",
        "# Note that you'll need to save your model as a .h5 like this\n",
        "# This .h5 will be uploaded to the testing infrastructure\n",
        "# and a score will be returned to you\n",
        "if __name__ == '__main__':\n",
        "    model = solution_model()\n",
        "    model.save(\"mymodel.h5\")"
      ],
      "execution_count": null,
      "outputs": []
    },
    {
      "cell_type": "markdown",
      "metadata": {
        "id": "FB3oc9m6fQkp"
      },
      "source": [
        "# 실제 시험\n",
        "\n",
        "tests: 5/5"
      ]
    },
    {
      "cell_type": "code",
      "metadata": {
        "id": "QpeWCCpBfQXF"
      },
      "source": [
        "# ======================================================================\n",
        "# There are 5 questions in this exam with increasing difficulty from 1-5.\n",
        "# Please note that the weight of the grade for the question is relative\n",
        "# to its difficulty. So your Category 1 question will score significantly\n",
        "# less than your Category 5 question.\n",
        "#\n",
        "# Don't use lambda layers in your model.\n",
        "# You do not need them to solve the question.\n",
        "# Lambda layers are not supported by the grading infrastructure.\n",
        "#\n",
        "# You must use the Submit and Test model button to submit your model\n",
        "# at least once in this category before you finally submit your exam,\n",
        "# otherwise you will score zero for this category.\n",
        "# ======================================================================\n",
        "#\n",
        "# Getting Started Question\n",
        "#\n",
        "# Given this data, train a neural network to match the xs to the ys\n",
        "# So that a predictor for a new value of X will give a float value\n",
        "# very close to the desired answer\n",
        "# i.e. print(model.predict([10.0])) would give a satisfactory result\n",
        "# The test infrastructure expects a trained model that accepts\n",
        "# an input shape of [1]\n",
        "\n",
        "import numpy as np\n",
        "import tensorflow as tf\n",
        "from tensorflow.keras.layers import Dense\n",
        "from tensorflow.keras.models import Sequential\n",
        "\n",
        "\n",
        "def solution_model():\n",
        "    xs = np.array([-1.0, 0.0, 1.0, 2.0, 3.0, 4.0], dtype=float)\n",
        "    ys = np.array([-7.0, -3.0, 1.0, 5.0, 9.0, 13.0], dtype=float)\n",
        "\n",
        "    # YOUR CODE HERE\n",
        "    model = Sequential([\n",
        "        Dense(1, input_shape=[1]),\n",
        "    ])\n",
        "    model.compile(optimizer='sgd', loss='mse')\n",
        "    model.fit(xs, ys, epochs=1200, verbose=0)\n",
        "    return model\n",
        "\n",
        "# Note that you'll need to save your model as a .h5 like this.\n",
        "# When you press the Submit and Test button, your saved .h5 model will\n",
        "# be sent to the testing infrastructure for scoring\n",
        "# and the score will be returned to you.\n",
        "if __name__ == '__main__':\n",
        "    model = solution_model()\n",
        "    model.save(\"mymodel.h5\")\n"
      ],
      "execution_count": null,
      "outputs": []
    }
  ]
}